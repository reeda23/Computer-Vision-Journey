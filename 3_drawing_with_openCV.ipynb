{
  "nbformat": 4,
  "nbformat_minor": 0,
  "metadata": {
    "colab": {
      "name": "3_drawing_with_openCV.ipynb",
      "provenance": [],
      "mount_file_id": "1HF_MPbeBS7yEvJtCWafZfPNR5Euslw0T",
      "authorship_tag": "ABX9TyO9BoDxEbcqvc8lS8zm7UQS",
      "include_colab_link": true
    },
    "kernelspec": {
      "name": "python3",
      "display_name": "Python 3"
    },
    "language_info": {
      "name": "python"
    }
  },
  "cells": [
    {
      "cell_type": "markdown",
      "metadata": {
        "id": "view-in-github",
        "colab_type": "text"
      },
      "source": [
        "<a href=\"https://colab.research.google.com/github/reeda23/Open-CV101-OpenCV-Basics/blob/main/3_drawing_with_openCV.ipynb\" target=\"_parent\"><img src=\"https://colab.research.google.com/assets/colab-badge.svg\" alt=\"Open In Colab\"/></a>"
      ]
    },
    {
      "cell_type": "code",
      "metadata": {
        "id": "x81CeiNFk4kZ"
      },
      "source": [
        "#importing packages\n",
        "\n",
        "import cv2\n",
        "import numpy as np\n",
        "import matplotlib.pyplot as plt"
      ],
      "execution_count": 1,
      "outputs": []
    },
    {
      "cell_type": "code",
      "metadata": {
        "colab": {
          "base_uri": "https://localhost:8080/",
          "height": 286
        },
        "id": "fJtS3v5JlncZ",
        "outputId": "4751908e-aae8-4e3d-8511-9c88855c3ba0"
      },
      "source": [
        "#implementing basic drawing function with cv2\n",
        "\n",
        "canvas = np.zeros((300,300,3), dtype=\"uint8\")\n",
        "green = (0,255,0)\n",
        " #first parameter that we pass is canvas like wehre to draw,\n",
        " #2nd parameter is the starting point, 3rd parameter  is ending point and 4th one is which colour\n",
        "\n",
        "cv2.line(canvas, (0,0), (300,300),green)\n",
        "\n",
        "plt.imshow(canvas)"
      ],
      "execution_count": 5,
      "outputs": [
        {
          "output_type": "execute_result",
          "data": {
            "text/plain": [
              "<matplotlib.image.AxesImage at 0x7f325e18d550>"
            ]
          },
          "metadata": {},
          "execution_count": 5
        },
        {
          "output_type": "display_data",
          "data": {
            "image/png": "[encoded data removed]",
            "text/plain": [
              "<Figure size 432x288 with 1 Axes>"
            ]
          },
          "metadata": {
            "needs_background": "light"
          }
        }
      ]
    },
    {
      "cell_type": "code",
      "metadata": {
        "colab": {
          "base_uri": "https://localhost:8080/",
          "height": 286
        },
        "id": "0k1te-fzmE0T",
        "outputId": "6ccd0e75-656b-46fb-e553-f441da226e01"
      },
      "source": [
        "#thicker line\n",
        "\n",
        "canvas = np.zeros((300,300,3), dtype= \"uint8\")\n",
        "green = (0,255,0)\n",
        "red =  (255,0,0) \n",
        "\n",
        "cv2.line(canvas,(0,0),(300,300),green)\n",
        "#drawing a line from top right corner to the bottom left corner \n",
        "cv2.line(canvas, (300,0), (0,300), red, 3)\n",
        "plt.imshow(canvas)"
      ],
      "execution_count": 12,
      "outputs": [
        {
          "output_type": "execute_result",
          "data": {
            "text/plain": [
              "<matplotlib.image.AxesImage at 0x7f325de63e90>"
            ]
          },
          "metadata": {},
          "execution_count": 12
        },
        {
          "output_type": "display_data",
          "data": {
            "image/png": "[encoded data removed]",
            "text/plain": [
              "<Figure size 432x288 with 1 Axes>"
            ]
          },
          "metadata": {
            "needs_background": "light"
          }
        }
      ]
    },
    {
      "cell_type": "code",
      "metadata": {
        "colab": {
          "base_uri": "https://localhost:8080/",
          "height": 286
        },
        "id": "Q9QMvjUkrio4",
        "outputId": "aa9ed904-a191-4116-b323-b24bb30d295a"
      },
      "source": [
        "#drawing rectangle of 50x50 on a canvas\n",
        "green = (0,255,0)\n",
        "canvas = np.zeros((300,300,3), dtype = \"uint8\")\n",
        "cv2.rectangle(canvas, (10,10), (60,60), green)\n",
        "plt.imshow(canvas)\n",
        "\n"
      ],
      "execution_count": 13,
      "outputs": [
        {
          "output_type": "execute_result",
          "data": {
            "text/plain": [
              "<matplotlib.image.AxesImage at 0x7f325e146dd0>"
            ]
          },
          "metadata": {},
          "execution_count": 13
        },
        {
          "output_type": "display_data",
          "data": {
            "image/png": "[encoded data removed]",
            "text/plain": [
              "<Figure size 432x288 with 1 Axes>"
            ]
          },
          "metadata": {
            "needs_background": "light"
          }
        }
      ]
    },
    {
      "cell_type": "code",
      "metadata": {
        "id": "uiPiqZJTyCZ0"
      },
      "source": [
        ""
      ],
      "execution_count": null,
      "outputs": []
    }
  ]
}